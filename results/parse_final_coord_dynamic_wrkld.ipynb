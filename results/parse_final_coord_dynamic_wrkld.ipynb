{
 "cells": [
  {
   "cell_type": "code",
   "execution_count": 61,
   "metadata": {},
   "outputs": [],
   "source": [
    "import numpy as np\n",
    "import csv\n",
    "import sys\n",
    "import os\n",
    "\n",
    "import matplotlib\n",
    "import matplotlib.pyplot as plt\n",
    "\n",
    "%matplotlib inline"
   ]
  },
  {
   "cell_type": "code",
   "execution_count": 62,
   "metadata": {},
   "outputs": [],
   "source": [
    "def plot_background_fct(send_data, recv_data, label, do_plot=True):\n",
    "    # diffs in miliseconds\n",
    "    diffs = (recv_data - send_data) * 1000\n",
    "    if do_plot:\n",
    "        fig, ax1 = plt.subplots(nrows=1, ncols=1, figsize=(10,5))\n",
    "        ax1.plot(diffs, label=\"background FCT\"+label) \n",
    "        ax1.set_title(\"Background FCT\")\n",
    "        ax1.legend(loc='upper left')\n",
    "        ax1.set_ylabel('Miliseconds')\n",
    "        ax1.set_xlabel('Request ID')\n",
    "        ax1.grid(which='major', linestyle=\"-\")\n",
    "        ax1.grid(which='minor', linestyle='--')\n",
    "\n",
    "        fig.tight_layout()   \n",
    "\n",
    "        fig.savefig(\"Queuing delay vs Time.png\", format=\"png\")\n",
    "        fig.show()\n",
    "    return np.mean(diffs), np.percentile(diffs,99)"
   ]
  },
  {
   "cell_type": "code",
   "execution_count": 63,
   "metadata": {},
   "outputs": [],
   "source": [
    "def plot_foreground_fct(send_data, recv_data, label, do_plot=True):\n",
    "    # diffs in micrseconds\n",
    "    diffs = (recv_data - send_data) * 1000 * 1000\n",
    "    if do_plot:\n",
    "        fig, ax1 = plt.subplots(nrows=1, ncols=1, figsize=(10,5))\n",
    "        ax1.plot(diffs, label=\"background FCT\"+label) \n",
    "        ax1.set_title(\"Foreground FCT\")\n",
    "        ax1.legend(loc='upper left')\n",
    "        ax1.set_ylabel('Microseconds')\n",
    "        ax1.set_xlabel('Request ID')\n",
    "        ax1.grid(which='major', linestyle=\"-\")\n",
    "        ax1.grid(which='minor', linestyle='--')\n",
    "\n",
    "        fig.tight_layout()   \n",
    "\n",
    "        fig.savefig(\"Queuing delay vs Time.png\", format=\"png\")\n",
    "        fig.show()\n",
    "    return np.mean(diffs), np.percentile(diffs,99)"
   ]
  },
  {
   "cell_type": "code",
   "execution_count": 64,
   "metadata": {},
   "outputs": [],
   "source": [
    "def plot_queue_size(data, label, do_plot=True):\n",
    "    # http://www.mathcs.emory.edu/~cheung/Courses/558-old/Syllabus/90-NS/trace.html\n",
    "    # Columns are: Time(s)-fromNode-toNode-SizeB-SizePack-Packsarrived(in interval)\n",
    "    # -departed - dropped -3: same in bytes\n",
    "    times = data[:,0]\n",
    "    q_size_B, q_size_P = data[:,3], data[:,4]\n",
    "    q_size_B = np.trim_zeros(q_size_B, trim='b')\n",
    "    q_size_P = np.trim_zeros(q_size_P, trim='b')\n",
    "    times = times[:q_size_B.shape[0]]\n",
    "    \n",
    "    q_size_B = np.trim_zeros(q_size_B, trim='f')\n",
    "    q_size_P = np.trim_zeros(q_size_P, trim='f')\n",
    "    \n",
    "    times = times[times.shape[0] - q_size_B.shape[0]:]\n",
    "    \n",
    "    if do_plot:\n",
    "        fig, (ax1,ax2) = plt.subplots(nrows=2, ncols=1, figsize=(10,10))\n",
    "        ax1.plot(times, q_size_B, label=\"q_size in bytes \"+label) \n",
    "        ax1.set_title(\"Q size vs Time\")\n",
    "        ax1.legend(loc='upper left')\n",
    "        ax1.set_ylabel('Bytes')\n",
    "        ax1.set_xlabel('Seconds')\n",
    "        ax1.grid(which='major', linestyle=\"-\")\n",
    "        ax1.grid(which='minor', linestyle='--')\n",
    "\n",
    "        ax2.plot(times, q_size_P, label=\"q_size in packets \"+label) \n",
    "        ax2.set_title(\"Q size vs Time\")\n",
    "        ax2.legend(loc='upper left')\n",
    "        ax2.set_ylabel('Packets')\n",
    "        ax2.set_xlabel('Seconds')\n",
    "        ax2.grid(which='major', linestyle=\"-\")\n",
    "        ax2.grid(which='minor', linestyle='--')\n",
    "\n",
    "        fig.tight_layout()   \n",
    "\n",
    "        fig.savefig(\"Q_size vs Time.png\", format=\"png\")\n",
    "        fig.show()\n",
    "    #avg_q_occup = np.mean(q_size_B)\n",
    "    #print(\"Mon_mean: \" + str(avg_q_occup))\n",
    "    q_size_B = q_size_B/1000.0\n",
    "    return np.mean(q_size_B), np.mean(q_size_P), np.percentile(q_size_B,99), np.percentile(q_size_P, 99)"
   ]
  },
  {
   "cell_type": "code",
   "execution_count": 65,
   "metadata": {},
   "outputs": [],
   "source": [
    "def plot_queuing_time(data, label, link_speed, do_plot=True):\n",
    "    \"\"\"\n",
    "    Link speed in Gbps\n",
    "    results in microseconds\n",
    "    \"\"\"\n",
    "    times = data[:,0]\n",
    "    q_size_B, q_size_P = data[:,3], data[:,4]\n",
    "    q_size_B = np.trim_zeros(q_size_B, trim='b')\n",
    "    times = times[:q_size_B.shape[0]]\n",
    "    q_size_B = np.trim_zeros(q_size_B, trim='f')\n",
    "    times = times[times.shape[0] - q_size_B.shape[0]:]\n",
    "    \n",
    "    link_speed = link_speed * 1000.0 * 1000.0 * 1000.0\n",
    "    q_time = q_size_B/(link_speed/8.0) * 1000.0 * 1000.0\n",
    "    \n",
    "    if do_plot:\n",
    "        fig, ax1 = plt.subplots(nrows=1, ncols=1, figsize=(10,5))\n",
    "        ax1.plot(times, q_time, label=\"queuing delay \"+label) \n",
    "        ax1.set_title(\"Queuing delay vs Time\")\n",
    "        ax1.legend(loc='upper left')\n",
    "        ax1.set_ylabel('Queuing microseconds')\n",
    "        ax1.set_xlabel('Simulation Seconds')\n",
    "        ax1.grid(which='major', linestyle=\"-\")\n",
    "        ax1.grid(which='minor', linestyle='--')\n",
    "\n",
    "        fig.tight_layout()   \n",
    "\n",
    "        fig.savefig(\"Queuing delay vs Time.png\", format=\"png\")\n",
    "        fig.show()\n",
    "    return np.mean(q_time), np.percentile(q_time, 99)"
   ]
  },
  {
   "cell_type": "code",
   "execution_count": 66,
   "metadata": {},
   "outputs": [],
   "source": [
    "def print_results():\n",
    "    print(\"Mean Q length in Kbytes {0} and in packets {1}\\n99th percentile in Kbytes {2} and in packets {3}\\n\".format(bytes_mean, pkts_mean, bytes_99, pkts_99))\n",
    "    print(\"Mean delay in us {0} and 99th percentile delay in us {1}\\n\".format(delay_mean, delay_99))\n",
    "    print(\"Background FCT (ms): mean: {0}, 99th %: {1}\\n\".format(bkg_mean, bkg_99))\n",
    "    print(\"Foreground FCT (us): mean: {0}, 99th %: {1}\\n\".format(frg_mean, frg_99))\n",
    "    \n",
    "    #print(\"Mean thrpt in Mbps {0} and 99th percentile thrpt in Mbps {1}\".format(thrpt_mean, thrpt_99))    "
   ]
  },
  {
   "cell_type": "markdown",
   "metadata": {},
   "source": [
    "# Paper reproduction\n",
    "## 20% bottlenecked link load "
   ]
  },
  {
   "cell_type": "code",
   "execution_count": 67,
   "metadata": {},
   "outputs": [],
   "source": [
    "results_folders = [\"/TCP/\", \"/DCTCP30/\", \"/DCTCP6_pacer/\", \"/DCTCP_pacer_PQ/\"]\n",
    "latency = dict()\n",
    "bkg_fct = dict()\n",
    "frg_fct = dict()\n",
    "\n",
    "for folder in results_folders:\n",
    "    latency[folder] = []\n",
    "    bkg_fct[folder] = []\n",
    "    frg_fct[folder] = []"
   ]
  },
  {
   "cell_type": "code",
   "execution_count": 68,
   "metadata": {
    "scrolled": false
   },
   "outputs": [
    {
     "name": "stdout",
     "output_type": "stream",
     "text": [
      "/TCP/\n",
      "Mean Q length in Kbytes 10.774666688855316 and in packets 10.885744478247267\n",
      "99th percentile in Kbytes 285.5532155044199 and in packets 288.54015191138933\n",
      "\n",
      "Mean delay in us 86.19733351084253 and 99th percentile delay in us 2284.425724035359\n",
      "\n",
      "Background FCT (ms): mean: 101.79763414446701, 99th %: 258.93551357355244\n",
      "\n",
      "Foreground FCT (us): mean: 141.7319050942629, 99th %: 2387.537782686878\n",
      "\n",
      "/DCTCP30/\n",
      "Mean Q length in Kbytes 0.8927973556867697 and in packets 0.902016540756956\n",
      "99th percentile in Kbytes 16.640003356381243 and in packets 16.810790949444367\n",
      "\n",
      "Mean delay in us 7.142378845494157 and 99th percentile delay in us 133.12002685104994\n",
      "\n",
      "Background FCT (ms): mean: 103.08987722794909, 99th %: 276.4441299828415\n",
      "\n",
      "Foreground FCT (us): mean: 59.696303975787615, 99th %: 791.951203912334\n",
      "\n",
      "/DCTCP6_pacer/\n",
      "Mean Q length in Kbytes 0.5208935263417955 and in packets 0.526289889906458\n",
      "99th percentile in Kbytes 15.527113805865126 and in packets 15.685673939583097\n",
      "\n",
      "Mean delay in us 4.167148210734364 and 99th percentile delay in us 124.21691044692099\n",
      "\n",
      "Background FCT (ms): mean: 105.03180388403679, 99th %: 275.4308487525236\n",
      "\n",
      "Foreground FCT (us): mean: 59.91452212916031, 99th %: 800.136882656946\n",
      "\n",
      "/DCTCP_pacer_PQ/\n",
      "Mean Q length in Kbytes 0.17858568357710297 and in packets 0.18044104151563864\n",
      "99th percentile in Kbytes 7.506586643734572 and in packets 7.594029727819174\n",
      "\n",
      "Mean delay in us 1.4286854686168238 and 99th percentile delay in us 60.052693149876575\n",
      "\n",
      "Background FCT (ms): mean: 132.69352325480574, 99th %: 289.8278901304974\n",
      "\n",
      "Foreground FCT (us): mean: 46.58831180398215, 99th %: 362.2396703278257\n",
      "\n"
     ]
    }
   ],
   "source": [
    "simul_folder = \"nofanout_20_9flows\"\n",
    "\n",
    "for folder in results_folders:\n",
    "    path = simul_folder + folder\n",
    "    q_mon = np.genfromtxt(path+\"q_mon\", delimiter=\" \")\n",
    "    bytes_mean, pkts_mean, bytes_99, pkts_99 = plot_queue_size(q_mon, folder, do_plot=False)\n",
    "    delay_mean, delay_99 = plot_queuing_time(q_mon, folder, 1, do_plot=False)\n",
    "    latency[folder].append((delay_mean, delay_99))\n",
    "    \n",
    "    bkg_send = np.genfromtxt(path+\"send_times|background.csv\", delimiter=\" \")\n",
    "    bkg_recv = np.genfromtxt(path+\"rec_times|background.csv\", delimiter=\" \")\n",
    "    bkg_mean, bkg_99 = plot_background_fct(bkg_send, bkg_recv, folder, do_plot=False)\n",
    "    bkg_fct[folder].append((bkg_mean,bkg_99))\n",
    "    \n",
    "    frg_send = np.genfromtxt(path+\"send_times|foreground.csv\", delimiter=\" \")\n",
    "    frg_recv = np.genfromtxt(path+\"rec_times|foreground.csv\", delimiter=\" \")\n",
    "    frg_mean, frg_99 = plot_foreground_fct(frg_send, frg_recv, folder, do_plot=False)\n",
    "    frg_fct[folder].append((frg_mean,frg_99))\n",
    "    print(folder)\n",
    "    print_results()"
   ]
  },
  {
   "cell_type": "markdown",
   "metadata": {},
   "source": [
    "## 40% bottlenecked link load "
   ]
  },
  {
   "cell_type": "code",
   "execution_count": 69,
   "metadata": {
    "scrolled": false
   },
   "outputs": [
    {
     "name": "stdout",
     "output_type": "stream",
     "text": [
      "/TCP/\n",
      "Mean Q length in Kbytes 44.0350871854736 and in packets 44.49438107921128\n",
      "99th percentile in Kbytes 426.53155550045904 and in packets 430.86176231899356\n",
      "\n",
      "Mean delay in us 352.2806974837888 and 99th percentile delay in us 3412.252444003673\n",
      "\n",
      "Background FCT (ms): mean: 134.22350802345144, 99th %: 447.762181889981\n",
      "\n",
      "Foreground FCT (us): mean: 430.20916449196415, 99th %: 3560.0888624011154\n",
      "\n",
      "/DCTCP30/\n",
      "Mean Q length in Kbytes 3.3571748713879552 and in packets 3.392247328834531\n",
      "99th percentile in Kbytes 25.561687354265544 and in packets 25.82014997112857\n",
      "\n",
      "Mean delay in us 26.857398971103642 and 99th percentile delay in us 204.49349883412435\n",
      "\n",
      "Background FCT (ms): mean: 139.15430947827215, 99th %: 427.55805534553\n",
      "\n",
      "Foreground FCT (us): mean: 87.5904377335351, 99th %: 912.9921518683655\n",
      "\n",
      "/DCTCP6_pacer/\n",
      "Mean Q length in Kbytes 1.9031507946465418 and in packets 1.9230807639486158\n",
      "99th percentile in Kbytes 21.249498025095686 and in packets 21.464307707570956\n",
      "\n",
      "Mean delay in us 15.22520635717233 and 99th percentile delay in us 169.99598420076552\n",
      "\n",
      "Background FCT (ms): mean: 144.6957124180406, 99th %: 429.91086972586567\n",
      "\n",
      "Foreground FCT (us): mean: 84.34844818024017, 99th %: 908.0735315978927\n",
      "\n",
      "/DCTCP_pacer_PQ/\n",
      "Mean Q length in Kbytes 0.3547742843026573 and in packets 0.35854043267513913\n",
      "99th percentile in Kbytes 7.229576234068221 and in packets 7.304820633837356\n",
      "\n",
      "Mean delay in us 2.8381942744212583 and 99th percentile delay in us 57.836609872545765\n",
      "\n",
      "Background FCT (ms): mean: 234.91134739885297, 99th %: 481.379857185154\n",
      "\n",
      "Foreground FCT (us): mean: 45.0792484071983, 99th %: 128.55433007217692\n",
      "\n"
     ]
    }
   ],
   "source": [
    "simul_folder = \"nofanout_40_9flows\"\n",
    "\n",
    "for folder in results_folders:\n",
    "    path = simul_folder + folder\n",
    "    q_mon = np.genfromtxt(path+\"q_mon\", delimiter=\" \")\n",
    "    bytes_mean,pkts_mean,bytes_99,pkts_99 = plot_queue_size(q_mon, folder, do_plot=False)\n",
    "    delay_mean, delay_99 = plot_queuing_time(q_mon, folder, 1, do_plot=False)\n",
    "    latency[folder].append((delay_mean, delay_99))\n",
    "    \n",
    "    \n",
    "    bkg_send = np.genfromtxt(path+\"send_times|background.csv\", delimiter=\" \")\n",
    "    bkg_recv = np.genfromtxt(path+\"rec_times|background.csv\", delimiter=\" \")\n",
    "    bkg_mean, bkg_99 = plot_background_fct(bkg_send, bkg_recv, folder, do_plot=False)\n",
    "    bkg_fct[folder].append((bkg_mean,bkg_99))\n",
    "    \n",
    "    \n",
    "    frg_send = np.genfromtxt(path+\"send_times|foreground.csv\", delimiter=\" \")\n",
    "    frg_recv = np.genfromtxt(path+\"rec_times|foreground.csv\", delimiter=\" \")\n",
    "    frg_mean, frg_99 = plot_foreground_fct(frg_send, frg_recv, folder, do_plot=False)\n",
    "    frg_fct[folder].append((frg_mean,frg_99))\n",
    "    \n",
    "    \n",
    "    \n",
    "    print(folder)\n",
    "    print_results()"
   ]
  },
  {
   "cell_type": "markdown",
   "metadata": {},
   "source": [
    "## 60% bottlenecked link load"
   ]
  },
  {
   "cell_type": "code",
   "execution_count": 70,
   "metadata": {
    "scrolled": false
   },
   "outputs": [
    {
     "name": "stdout",
     "output_type": "stream",
     "text": [
      "/TCP/\n",
      "Mean Q length in Kbytes 101.46689781627384 and in packets 102.5355332982317\n",
      "99th percentile in Kbytes 464.75284139133 and in packets 469.4904869718644\n",
      "\n",
      "Mean delay in us 811.7351825301907 and 99th percentile delay in us 3718.02273113064\n",
      "\n",
      "Background FCT (ms): mean: 206.2282459162474, 99th %: 824.2336581929637\n",
      "\n",
      "Foreground FCT (us): mean: 869.3429159026326, 99th %: 3791.5498266876584\n",
      "\n",
      "/DCTCP30/\n",
      "Mean Q length in Kbytes 7.203022174220621 and in packets 7.278970506775793\n",
      "99th percentile in Kbytes 29.020916144586927 and in packets 29.323904141235605\n",
      "\n",
      "Mean delay in us 57.62417739376497 and 99th percentile delay in us 232.16732915669542\n",
      "\n",
      "Background FCT (ms): mean: 219.18406769517912, 99th %: 729.3707723005915\n",
      "\n",
      "Foreground FCT (us): mean: 117.08309767296898, 99th %: 843.4728640018828\n",
      "\n",
      "/DCTCP6_pacer/\n",
      "Mean Q length in Kbytes 3.750809468351261 and in packets 3.790448781035403\n",
      "99th percentile in Kbytes 23.568432851359034 and in packets 23.806946440900948\n",
      "\n",
      "Mean delay in us 30.00647574681009 and 99th percentile delay in us 188.54746281087228\n",
      "\n",
      "Background FCT (ms): mean: 228.5973137790125, 99th %: 732.0288082414718\n",
      "\n",
      "Foreground FCT (us): mean: 103.24495031933762, 99th %: 846.466549626258\n",
      "\n",
      "/DCTCP_pacer_PQ/\n",
      "Mean Q length in Kbytes 1.6070157427944727 and in packets 1.624056495061948\n",
      "99th percentile in Kbytes 13.260104742654901 and in packets 13.39404751163018\n",
      "\n",
      "Mean delay in us 12.856125942355781 and 99th percentile delay in us 106.0808379412392\n",
      "\n",
      "Background FCT (ms): mean: 313.3014121749499, 99th %: 749.1805551265222\n",
      "\n",
      "Foreground FCT (us): mean: 55.443277601944985, 99th %: 150.5005246883684\n",
      "\n"
     ]
    }
   ],
   "source": [
    "simul_folder = \"nofanout_60_9flows\"\n",
    "\n",
    "for folder in results_folders:\n",
    "    path = simul_folder + folder\n",
    "    q_mon = np.genfromtxt(path+\"q_mon\", delimiter=\" \")\n",
    "    bytes_mean,pkts_mean,bytes_99,pkts_99 = plot_queue_size(q_mon, folder, do_plot=False)\n",
    "    delay_mean, delay_99 = plot_queuing_time(q_mon, folder, 1, do_plot=False)\n",
    "    latency[folder].append((delay_mean, delay_99))\n",
    "    \n",
    "    \n",
    "    bkg_send = np.genfromtxt(path+\"send_times|background.csv\", delimiter=\" \")\n",
    "    bkg_recv = np.genfromtxt(path+\"rec_times|background.csv\", delimiter=\" \")\n",
    "    bkg_mean, bkg_99 = plot_background_fct(bkg_send, bkg_recv, folder, do_plot=False)\n",
    "    bkg_fct[folder].append((bkg_mean,bkg_99))\n",
    "    \n",
    "    \n",
    "    frg_send = np.genfromtxt(path+\"send_times|foreground.csv\", delimiter=\" \")\n",
    "    frg_recv = np.genfromtxt(path+\"rec_times|foreground.csv\", delimiter=\" \")\n",
    "    frg_mean, frg_99 = plot_foreground_fct(frg_send, frg_recv, folder, do_plot=False)\n",
    "    frg_fct[folder].append((frg_mean,frg_99))\n",
    "    \n",
    "    \n",
    "    print(folder)\n",
    "    print_results()"
   ]
  },
  {
   "cell_type": "code",
   "execution_count": 71,
   "metadata": {},
   "outputs": [
    {
     "name": "stdout",
     "output_type": "stream",
     "text": [
      "{'/TCP/': [(86.19733351084253, 2284.425724035359), (352.2806974837888, 3412.252444003673), (811.7351825301907, 3718.02273113064)], '/DCTCP30/': [(7.142378845494157, 133.12002685104994), (26.857398971103642, 204.49349883412435), (57.62417739376497, 232.16732915669542)], '/DCTCP6_pacer/': [(4.167148210734364, 124.21691044692099), (15.22520635717233, 169.99598420076552), (30.00647574681009, 188.54746281087228)], '/DCTCP_pacer_PQ/': [(1.4286854686168238, 60.052693149876575), (2.8381942744212583, 57.836609872545765), (12.856125942355781, 106.0808379412392)]}\n",
      "------------------\n",
      "{'/TCP/': [(101.79763414446701, 258.93551357355244), (134.22350802345144, 447.762181889981), (206.2282459162474, 824.2336581929637)], '/DCTCP30/': [(103.08987722794909, 276.4441299828415), (139.15430947827215, 427.55805534553), (219.18406769517912, 729.3707723005915)], '/DCTCP6_pacer/': [(105.03180388403679, 275.4308487525236), (144.6957124180406, 429.91086972586567), (228.5973137790125, 732.0288082414718)], '/DCTCP_pacer_PQ/': [(132.69352325480574, 289.8278901304974), (234.91134739885297, 481.379857185154), (313.3014121749499, 749.1805551265222)]}\n",
      "------------------\n",
      "{'/TCP/': [(141.7319050942629, 2387.537782686878), (430.20916449196415, 3560.0888624011154), (869.3429159026326, 3791.5498266876584)], '/DCTCP30/': [(59.696303975787615, 791.951203912334), (87.5904377335351, 912.9921518683655), (117.08309767296898, 843.4728640018828)], '/DCTCP6_pacer/': [(59.91452212916031, 800.136882656946), (84.34844818024017, 908.0735315978927), (103.24495031933762, 846.466549626258)], '/DCTCP_pacer_PQ/': [(46.58831180398215, 362.2396703278257), (45.0792484071983, 128.55433007217692), (55.443277601944985, 150.5005246883684)]}\n"
     ]
    }
   ],
   "source": [
    "print(latency)\n",
    "print(\"------------------\")\n",
    "print(bkg_fct)\n",
    "print(\"------------------\")\n",
    "print(frg_fct)"
   ]
  },
  {
   "cell_type": "code",
   "execution_count": 72,
   "metadata": {
    "scrolled": true
   },
   "outputs": [],
   "source": [
    "# fig, (ax1,ax2,ax3) = plt.subplots(nrows=1, ncols=3, figsize=(16,10))\n",
    "# for i, setup in enumerate(results_folders):\n",
    "#     ax1.bar(i-0.4, latency[setup][0][0], width=0.1, log=True, color=\"blue\")\n",
    "#     ax1.bar(i-0.3, latency[setup][0][1], width=0.1, log=True, color=\"blue\")\n",
    "#     ax1.bar(i-0.1, latency[setup][1][0], width=0.1, log=True, color=\"red\")\n",
    "#     ax1.bar(i, latency[setup][1][1], width=0.1, log=True, color=\"red\")\n",
    "#     ax1.bar(i+0.2, latency[setup][2][0], width=0.1, log=True, color=\"green\")\n",
    "#     ax1.bar(i+0.3, latency[setup][2][1], width=0.1, log=True, color=\"green\")\n",
    "# ax1.set_title(\"Switch Latency\")\n",
    "# ax1.legend(loc='upper left')\n",
    "# ax1.set_ylabel('Queuing miliseconds')\n",
    "# ax1.set_xlabel('Scheme')\n",
    "# ax1.grid(which='major', linestyle=\"-\")\n",
    "# #ax1.grid(which='minor', linestyle='--')\n",
    "\n",
    "# fig.tight_layout()   \n",
    "\n",
    "# fig.savefig(\"Queuing delay vs Time.png\", format=\"png\")\n",
    "# fig.show()"
   ]
  }
 ],
 "metadata": {
  "kernelspec": {
   "display_name": "Python 3",
   "language": "python",
   "name": "python3"
  },
  "language_info": {
   "codemirror_mode": {
    "name": "ipython",
    "version": 3
   },
   "file_extension": ".py",
   "mimetype": "text/x-python",
   "name": "python",
   "nbconvert_exporter": "python",
   "pygments_lexer": "ipython3",
   "version": "3.6.5"
  }
 },
 "nbformat": 4,
 "nbformat_minor": 2
}
