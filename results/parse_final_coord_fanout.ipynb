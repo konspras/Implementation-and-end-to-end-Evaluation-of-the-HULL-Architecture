{
 "cells": [
  {
   "cell_type": "code",
   "execution_count": 171,
   "metadata": {},
   "outputs": [],
   "source": [
    "import numpy as np\n",
    "import csv\n",
    "import sys\n",
    "import os\n",
    "\n",
    "import matplotlib\n",
    "import matplotlib.pyplot as plt\n",
    "\n",
    "%matplotlib inline"
   ]
  },
  {
   "cell_type": "code",
   "execution_count": 172,
   "metadata": {},
   "outputs": [],
   "source": [
    "def plot_background_fct(send_data, recv_data, label, do_plot=True):\n",
    "    # diffs in miliseconds\n",
    "    diffs = (recv_data - send_data) * 1000\n",
    "    if do_plot:\n",
    "        fig, ax1 = plt.subplots(nrows=1, ncols=1, figsize=(10,5))\n",
    "        ax1.plot(diffs, label=\"background FCT\"+label) \n",
    "        ax1.set_title(\"Background FCT\")\n",
    "        ax1.legend(loc='upper left')\n",
    "        ax1.set_ylabel('Miliseconds')\n",
    "        ax1.set_xlabel('Request ID')\n",
    "        ax1.grid(which='major', linestyle=\"-\")\n",
    "        ax1.grid(which='minor', linestyle='--')\n",
    "\n",
    "        fig.tight_layout()   \n",
    "\n",
    "        fig.savefig(\"Queuing delay vs Time.png\", format=\"png\")\n",
    "        fig.show()\n",
    "    return np.mean(diffs), np.percentile(diffs,99)"
   ]
  },
  {
   "cell_type": "code",
   "execution_count": 173,
   "metadata": {},
   "outputs": [],
   "source": [
    "def plot_foreground_fct(send_data, recv_data, label, do_plot=True):\n",
    "    # diffs in micrseconds\n",
    "    diffs = (recv_data - send_data) * 1000 * 1000\n",
    "    if do_plot:\n",
    "        fig, ax1 = plt.subplots(nrows=1, ncols=1, figsize=(10,5))\n",
    "        ax1.plot(diffs, label=\"background FCT\"+label) \n",
    "        ax1.set_title(\"Foreground FCT\")\n",
    "        ax1.legend(loc='upper left')\n",
    "        ax1.set_ylabel('Microseconds')\n",
    "        ax1.set_xlabel('Request ID')\n",
    "        ax1.grid(which='major', linestyle=\"-\")\n",
    "        ax1.grid(which='minor', linestyle='--')\n",
    "\n",
    "        fig.tight_layout()   \n",
    "\n",
    "        fig.savefig(\"Queuing delay vs Time.png\", format=\"png\")\n",
    "        fig.show()\n",
    "    return np.mean(diffs), np.percentile(diffs,99)"
   ]
  },
  {
   "cell_type": "code",
   "execution_count": 174,
   "metadata": {},
   "outputs": [],
   "source": [
    "def plot_fanout(send_data, recv_data, label, do_plot=True, res_type=\"max\"):\n",
    "    # diffs in miliseconds\n",
    "    diffs = (recv_data - send_data) * 1000\n",
    "    if res_type==\"max\":\n",
    "        diffs = np.max(diffs[:,:diffs.shape[1]-1],1)\n",
    "    elif res_type==\"avg\":\n",
    "        diffs = np.mean(diffs[:,:diffs.shape[1]-1],1)\n",
    "    elif res_type==\"min\":\n",
    "        diffs = np.min(diffs[:,:diffs.shape[1]-1],1)\n",
    "        \n",
    "    if do_plot:\n",
    "        fig, ax1 = plt.subplots(nrows=1, ncols=1, figsize=(10,5))\n",
    "        ax1.plot(diffs, label=\"RCT\"+label) \n",
    "        ax1.set_title(\"Partition/Aggregate query completion time\")\n",
    "        ax1.legend(loc='upper left')\n",
    "        ax1.set_ylabel('Miliseconds')\n",
    "        ax1.set_xlabel('Query ID')\n",
    "        ax1.grid(which='major', linestyle=\"-\")\n",
    "        ax1.grid(which='minor', linestyle='--')\n",
    "\n",
    "        fig.tight_layout()   \n",
    "        fig.show()\n",
    "    return np.mean(diffs), np.percentile(diffs,99)"
   ]
  },
  {
   "cell_type": "code",
   "execution_count": 209,
   "metadata": {},
   "outputs": [],
   "source": [
    "def servers_within_deadline(send_data, recv_data, deadline = 20):\n",
    "    # diffs and deadline in miliseconds\n",
    "    diffs = (recv_data - send_data) * 1000.0\n",
    "    diffs_within_deadline = diffs < deadline\n",
    "    num_serv_that_meet_deadline = np.sum(diffs_within_deadline,1)\n",
    "    return np.mean(num_serv_that_meet_deadline), np.percentile(num_serv_that_meet_deadline,1)"
   ]
  },
  {
   "cell_type": "code",
   "execution_count": 210,
   "metadata": {},
   "outputs": [
    {
     "name": "stdout",
     "output_type": "stream",
     "text": [
      "[[ True  True  True False False  True False]\n",
      " [ True False False  True False False  True]]\n",
      "[4 3]\n"
     ]
    }
   ],
   "source": [
    "a = np.array([[1,2,3,4,5,1,7],[2,4,7,1,8,4,1,]])\n",
    "b=a<4\n",
    "print(b)\n",
    "c = np.sum(b,1)\n",
    "print(c)"
   ]
  },
  {
   "cell_type": "code",
   "execution_count": 211,
   "metadata": {},
   "outputs": [],
   "source": [
    "def plot_queue_size(data, label, do_plot=True):\n",
    "    # http://www.mathcs.emory.edu/~cheung/Courses/558-old/Syllabus/90-NS/trace.html\n",
    "    # Columns are: Time(s)-fromNode-toNode-SizeB-SizePack-Packsarrived(in interval)\n",
    "    # -departed - dropped -3: same in bytes\n",
    "    times = data[:,0]\n",
    "    q_size_B, q_size_P = data[:,3], data[:,4]\n",
    "    q_size_B = np.trim_zeros(q_size_B, trim='b')\n",
    "    q_size_P = np.trim_zeros(q_size_P, trim='b')\n",
    "    times = times[:q_size_B.shape[0]]\n",
    "    \n",
    "    q_size_B = np.trim_zeros(q_size_B, trim='f')\n",
    "    q_size_P = np.trim_zeros(q_size_P, trim='f')\n",
    "    \n",
    "    times = times[times.shape[0] - q_size_B.shape[0]:]\n",
    "    \n",
    "    if do_plot:\n",
    "        fig, (ax1,ax2) = plt.subplots(nrows=2, ncols=1, figsize=(10,10))\n",
    "        ax1.plot(times, q_size_B, label=\"q_size in bytes \"+label) \n",
    "        ax1.set_title(\"Q size vs Time\")\n",
    "        ax1.legend(loc='upper left')\n",
    "        ax1.set_ylabel('Bytes')\n",
    "        ax1.set_xlabel('Seconds')\n",
    "        ax1.grid(which='major', linestyle=\"-\")\n",
    "        ax1.grid(which='minor', linestyle='--')\n",
    "\n",
    "        ax2.plot(times, q_size_P, label=\"q_size in packets \"+label) \n",
    "        ax2.set_title(\"Q size vs Time\")\n",
    "        ax2.legend(loc='upper left')\n",
    "        ax2.set_ylabel('Packets')\n",
    "        ax2.set_xlabel('Seconds')\n",
    "        ax2.grid(which='major', linestyle=\"-\")\n",
    "        ax2.grid(which='minor', linestyle='--')\n",
    "\n",
    "        fig.tight_layout()   \n",
    "\n",
    "        fig.savefig(\"Q_size vs Time.png\", format=\"png\")\n",
    "        fig.show()\n",
    "    #avg_q_occup = np.mean(q_size_B)\n",
    "    #print(\"Mon_mean: \" + str(avg_q_occup))\n",
    "    q_size_B = q_size_B/1000.0\n",
    "    return np.mean(q_size_B), np.mean(q_size_P), np.percentile(q_size_B,99), np.percentile(q_size_P, 99)"
   ]
  },
  {
   "cell_type": "code",
   "execution_count": 212,
   "metadata": {},
   "outputs": [],
   "source": [
    "def plot_queuing_time(data, label, link_speed, do_plot=True):\n",
    "    \"\"\"\n",
    "    Link speed in Gbps\n",
    "    results in microseconds\n",
    "    \"\"\"\n",
    "    times = data[:,0]\n",
    "    q_size_B, q_size_P = data[:,3], data[:,4]\n",
    "    q_size_B = np.trim_zeros(q_size_B, trim='b')\n",
    "    times = times[:q_size_B.shape[0]]\n",
    "    q_size_B = np.trim_zeros(q_size_B, trim='f')\n",
    "    times = times[times.shape[0] - q_size_B.shape[0]:]\n",
    "    \n",
    "    link_speed = link_speed * 1000.0 * 1000.0 * 1000.0\n",
    "    q_time = q_size_B/(link_speed/8.0) * 1000.0 * 1000.0\n",
    "    \n",
    "    if do_plot:\n",
    "        fig, ax1 = plt.subplots(nrows=1, ncols=1, figsize=(10,5))\n",
    "        ax1.plot(times, q_time, label=\"queuing delay \"+label) \n",
    "        ax1.set_title(\"Queuing delay vs Time\")\n",
    "        ax1.legend(loc='upper left')\n",
    "        ax1.set_ylabel('Queuing microseconds')\n",
    "        ax1.set_xlabel('Simulation Seconds')\n",
    "        ax1.grid(which='major', linestyle=\"-\")\n",
    "        ax1.grid(which='minor', linestyle='--')\n",
    "\n",
    "        fig.tight_layout()   \n",
    "\n",
    "        fig.savefig(\"Queuing delay vs Time.png\", format=\"png\")\n",
    "        fig.show()\n",
    "    return np.mean(q_time), np.percentile(q_time, 99)"
   ]
  },
  {
   "cell_type": "code",
   "execution_count": 213,
   "metadata": {},
   "outputs": [],
   "source": [
    "def print_results(fore=True, back=True, fanout_max=True, fanout_avg=True, fanout_min=True):\n",
    "    print(\"Mean Q length in Kbytes {0} and in packets {1}\\n99th percentile in Kbytes {2} and in packets {3}\\n\".format(bytes_mean, pkts_mean, bytes_99, pkts_99))\n",
    "    print(\"Mean delay in us {0} and 99th percentile delay in us {1}\\n\".format(delay_mean, delay_99))\n",
    "    if fore:\n",
    "        print(\"Foreground FCT (us): mean: {0}, 99th %: {1}\\n\".format(frg_mean, frg_99))\n",
    "    if back:\n",
    "        print(\"Background FCT (ms): mean: {0}, 99th %: {1}\\n\".format(bkg_mean, bkg_99))\n",
    "    if fanout_max:\n",
    "        print(\"Fanout max QCT (ms): mean: {0}, 99th %: {1}\\n\".format(fan_max_mean, fan_max_99))\n",
    "    if fanout_avg:\n",
    "        print(\"Fanout avg QCT (ms): mean: {0}, 99th %: {1}\\n\".format(fan_avg_mean, fan_avg_99))\n",
    "    if fanout_min:\n",
    "        print(\"Fanout min QCT (ms): mean: {0}, 99th %: {1}\\n\".format(fan_min_mean, fan_min_99))\n",
    "        print(\"Servers in deadline: mean: {0}, 99th %: {1}\\n\".format(servers_mean, servers_99))\n",
    "        \n",
    "    \n",
    "    \n",
    "    #print(\"Mean thrpt in Mbps {0} and 99th percentile thrpt in Mbps {1}\".format(thrpt_mean, thrpt_99))    "
   ]
  },
  {
   "cell_type": "markdown",
   "metadata": {},
   "source": [
    "## Just fanout, workload 1 at 30% - 10 flows"
   ]
  },
  {
   "cell_type": "code",
   "execution_count": 214,
   "metadata": {},
   "outputs": [],
   "source": [
    "results_folders = [\"/TCP/\", \"/DCTCP30/\", \"/DCTCP_pacer_PQ/\"]\n",
    "latency = dict()\n",
    "bkg_fct = dict()\n",
    "frg_fct = dict()\n",
    "fanout_qct_max = dict()\n",
    "fanout_qct_avg = dict()\n",
    "fanout_qct_min = dict()\n",
    "servers_in_deadline = dict()\n",
    "\n",
    "\n",
    "\n",
    "for folder in results_folders:\n",
    "    latency[folder] = []\n",
    "    bkg_fct[folder] = []\n",
    "    frg_fct[folder] = []\n",
    "    fanout_qct_max[folder] = []\n",
    "    fanout_qct_avg[folder] = []\n",
    "    fanout_qct_min[folder] = []    \n",
    "    servers_in_deadline[folder] = []        "
   ]
  },
  {
   "cell_type": "code",
   "execution_count": 215,
   "metadata": {
    "scrolled": false
   },
   "outputs": [
    {
     "name": "stderr",
     "output_type": "stream",
     "text": [
      "/usr/local/lib/python3.6/site-packages/ipykernel_launcher.py:4: RuntimeWarning: invalid value encountered in less\n",
      "  after removing the cwd from sys.path.\n"
     ]
    },
    {
     "name": "stdout",
     "output_type": "stream",
     "text": [
      "[10 10 10 10 10 10 10 10 10 10 10 10 10 10 10  9 10 10 10 10 10 10 10  9\n",
      "  9  9  9  8 10 10 10 10 10 10 10 10 10 10 10 10]\n",
      "/TCP/\n",
      "Mean Q length in Kbytes 0.0015321006270788598 and in packets 0.0027573506010255544\n",
      "99th percentile in Kbytes 0.011477501352366208 and in packets 0.01855625382818478\n",
      "\n",
      "Mean delay in us 0.012256805016630878 and 99th percentile delay in us 0.09182001081892967\n",
      "\n",
      "Fanout max QCT (ms): mean: 11.861691827033336, 99th %: 30.592449654056097\n",
      "\n",
      "Fanout avg QCT (ms): mean: 4.1467681495415905, 99th %: 10.337442728251556\n",
      "\n",
      "Fanout min QCT (ms): mean: 0.6328319526961736, 99th %: 2.820076103245623\n",
      "\n",
      "Servers in deadline: mean: 9.89363137916491, 99th %: 8.0\n",
      "\n",
      "[10 10 10 10 10 10 10 10 10 10 10 10 10 10 10  9 10 10 10 10 10 10 10  9\n",
      "  9  9  9  8 10 10 10 10 10 10 10 10 10 10 10 10]\n",
      "/DCTCP30/\n",
      "Mean Q length in Kbytes 0.0015321006270788598 and in packets 0.0027573506010255544\n",
      "99th percentile in Kbytes 0.011477501352366208 and in packets 0.01855625382818478\n",
      "\n",
      "Mean delay in us 0.012256805016630878 and 99th percentile delay in us 0.09182001081892967\n",
      "\n",
      "Fanout max QCT (ms): mean: 11.861691827033336, 99th %: 30.592449654056097\n",
      "\n",
      "Fanout avg QCT (ms): mean: 4.1467681495415905, 99th %: 10.337442728251556\n",
      "\n",
      "Fanout min QCT (ms): mean: 0.6328319526961736, 99th %: 2.820076103245623\n",
      "\n",
      "Servers in deadline: mean: 9.89363137916491, 99th %: 8.0\n",
      "\n",
      "[10 10 10 10 10 10 10 10 10 10 10 10 10 10 10  9 10 10 10 10 10 10 10  9\n",
      "  9  9  9  8 10  9 10 10 10 10 10 10 10 10 10 10]\n",
      "/DCTCP_pacer_PQ/\n",
      "Mean Q length in Kbytes 0.0014253044384196672 and in packets 0.002666734430351578\n",
      "99th percentile in Kbytes 0.009671096200797844 and in packets 0.01697991005813135\n",
      "\n",
      "Mean delay in us 0.011402435507357337 and 99th percentile delay in us 0.07736876960638275\n",
      "\n",
      "Fanout max QCT (ms): mean: 11.90204503855953, 99th %: 30.878126218570618\n",
      "\n",
      "Fanout avg QCT (ms): mean: 4.180662032279833, 99th %: 10.448151948708043\n",
      "\n",
      "Fanout min QCT (ms): mean: 0.6676265903472264, 99th %: 2.8231452180198673\n",
      "\n",
      "Servers in deadline: mean: 9.892619148038802, 99th %: 8.0\n",
      "\n"
     ]
    }
   ],
   "source": [
    "simul_folder = \"onlyfanout_wkld1_30_10flows\"\n",
    "\n",
    "for folder in results_folders:\n",
    "    path = simul_folder + folder\n",
    "    q_mon = np.genfromtxt(path+\"q_mon\", delimiter=\" \")\n",
    "    bytes_mean, pkts_mean, bytes_99, pkts_99 = plot_queue_size(q_mon, folder, do_plot=False)\n",
    "    delay_mean, delay_99 = plot_queuing_time(q_mon, folder, 1, do_plot=False)\n",
    "    latency[folder].append((delay_mean, delay_99))\n",
    "    \n",
    "    \n",
    "    fan_send = np.genfromtxt(path+\"send_times|fanout.csv\", delimiter=\",\")\n",
    "    fan_recv = np.genfromtxt(path+\"rec_times|fanout.csv\", delimiter=\",\")\n",
    "    fan_max_mean, fan_max_99 = plot_fanout(fan_send, fan_recv, folder, do_plot=False)\n",
    "    fanout_qct_max[folder].append((fan_max_mean,fan_max_99))\n",
    "    \n",
    "    fan_avg_mean, fan_avg_99 = plot_fanout(fan_send, fan_recv, folder, do_plot=False, res_type=\"avg\")\n",
    "    fanout_qct_avg[folder].append((fan_avg_mean,fan_avg_99))\n",
    "    \n",
    "    fan_min_mean, fan_min_99 = plot_fanout(fan_send, fan_recv, folder, do_plot=False, res_type=\"min\")\n",
    "    fanout_qct_min[folder].append((fan_min_mean,fan_min_99))\n",
    "    \n",
    "    servers_mean, servers_99 = servers_within_deadline(fan_send, fan_recv, 20)\n",
    "    \n",
    "    print(folder)\n",
    "    print_results(fore=False, back=False, fanout_max=True, fanout_avg=True, fanout_min=True)\n",
    "    \n",
    "    \"\"\"\n",
    "    (0,1484)(1,0)(2,0)(3,0)(4,0)(5,0)(6,0)(7,0)(8,0)(9,0)(10,0)(11,0)(12,0)(13,0)(14,0)(15,0)(16,0)(17,0)(18,0)(19,0)\n",
    "    (0,1281)(1,0)(2,0)(3,0)(4,0)(5,0)(6,0)(7,0)(8,0)(9,0)(10,0)(11,0)(12,0)(13,0)(14,0)(15,0)(16,0)(17,0)(18,0)(19,0)\n",
    "    \"\"\""
   ]
  },
  {
   "cell_type": "markdown",
   "metadata": {},
   "source": [
    "## Fanout, workload 1 at 30% + background traffic at 200Mbps - 10 flows "
   ]
  },
  {
   "cell_type": "code",
   "execution_count": 200,
   "metadata": {
    "scrolled": false
   },
   "outputs": [
    {
     "name": "stderr",
     "output_type": "stream",
     "text": [
      "/usr/local/lib/python3.6/site-packages/ipykernel_launcher.py:4: RuntimeWarning: invalid value encountered in less\n",
      "  after removing the cwd from sys.path.\n"
     ]
    },
    {
     "name": "stdout",
     "output_type": "stream",
     "text": [
      "/TCP/\n",
      "Mean Q length in Kbytes 24.628110090979828 and in packets 25.768533059783728\n",
      "99th percentile in Kbytes 267.3721422728311 and in packets 279.7298486201625\n",
      "\n",
      "Mean delay in us 197.02488072783862 and 99th percentile delay in us 2138.9771381826495\n",
      "\n",
      "Background FCT (ms): mean: 109.92766356092046, 99th %: 318.0634533299275\n",
      "\n",
      "Fanout max QCT (ms): mean: 12.549892728325995, 99th %: 31.821353152573664\n",
      "\n",
      "Fanout avg QCT (ms): mean: 4.792751314334563, 99th %: 12.895179087839015\n",
      "\n",
      "Fanout min QCT (ms): mean: 1.216873200571218, 99th %: 7.194570282529608\n",
      "\n",
      "Servers in deadline: mean: 9.865457612821594, 99th %: 8.0\n",
      "\n",
      "/DCTCP30/\n",
      "Mean Q length in Kbytes 3.56749393958872 and in packets 3.694621269419423\n",
      "99th percentile in Kbytes 20.609013640623832 and in packets 22.046261722171632\n",
      "\n",
      "Mean delay in us 28.53995151670976 and 99th percentile delay in us 164.87210912499066\n",
      "\n",
      "Background FCT (ms): mean: 114.41642104599012, 99th %: 280.4406935408957\n",
      "\n",
      "Fanout max QCT (ms): mean: 12.081964333129303, 99th %: 31.06630185645709\n",
      "\n",
      "Fanout avg QCT (ms): mean: 4.246494089088765, 99th %: 10.590609162388922\n",
      "\n",
      "Fanout min QCT (ms): mean: 0.6974996555950311, 99th %: 3.051123106992717\n",
      "\n",
      "Servers in deadline: mean: 9.887389287220582, 99th %: 8.0\n",
      "\n",
      "/DCTCP_pacer_PQ/\n",
      "Mean Q length in Kbytes 0.07847286313910082 and in packets 0.08479692736788104\n",
      "99th percentile in Kbytes 1.9012948217099424 and in packets 1.97715782548346\n",
      "\n",
      "Mean delay in us 0.6277829051128065 and 99th percentile delay in us 15.210358573679539\n",
      "\n",
      "Background FCT (ms): mean: 243.65444273656223, 99th %: 367.2316272451263\n",
      "\n",
      "Fanout max QCT (ms): mean: 11.972514519775682, 99th %: 31.248185067426206\n",
      "\n",
      "Fanout avg QCT (ms): mean: 4.217369547979717, 99th %: 10.506921389515917\n",
      "\n",
      "Fanout min QCT (ms): mean: 0.6830901890117017, 99th %: 2.916756750234481\n",
      "\n",
      "Servers in deadline: mean: 9.89067903838043, 99th %: 8.540000000000006\n",
      "\n"
     ]
    }
   ],
   "source": [
    "simul_folder = \"bkg200_fanout_wkld1_30_10flows\"\n",
    "\n",
    "for folder in results_folders:\n",
    "    path = simul_folder + folder\n",
    "    q_mon = np.genfromtxt(path+\"q_mon\", delimiter=\" \")\n",
    "    bytes_mean,pkts_mean,bytes_99,pkts_99 = plot_queue_size(q_mon, folder, do_plot=False)\n",
    "    delay_mean, delay_99 = plot_queuing_time(q_mon, folder, 1, do_plot=False)\n",
    "    latency[folder].append((delay_mean, delay_99))\n",
    "    \n",
    "    bkg_send = np.genfromtxt(path+\"send_times|background.csv\", delimiter=\" \")\n",
    "    bkg_recv = np.genfromtxt(path+\"rec_times|background.csv\", delimiter=\" \")\n",
    "    bkg_mean, bkg_99 = plot_background_fct(bkg_send, bkg_recv, folder, do_plot=False)\n",
    "    bkg_fct[folder].append((bkg_mean,bkg_99))\n",
    "    \n",
    "    fan_send = np.genfromtxt(path+\"send_times|fanout.csv\", delimiter=\",\")\n",
    "    fan_recv = np.genfromtxt(path+\"rec_times|fanout.csv\", delimiter=\",\")\n",
    "    fan_max_mean, fan_max_99 = plot_fanout(fan_send, fan_recv, folder, do_plot=False)\n",
    "    fanout_qct_max[folder].append((fan_max_mean,fan_max_99))\n",
    "    \n",
    "    fan_avg_mean, fan_avg_99 = plot_fanout(fan_send, fan_recv, folder, do_plot=False, res_type=\"avg\")\n",
    "    fanout_qct_avg[folder].append((fan_avg_mean,fan_avg_99))\n",
    "    \n",
    "    fan_min_mean, fan_min_99 = plot_fanout(fan_send, fan_recv, folder, do_plot=False, res_type=\"min\")\n",
    "    fanout_qct_min[folder].append((fan_min_mean,fan_min_99))\n",
    "    \n",
    "    servers_mean, servers_99 = servers_within_deadline(fan_send, fan_recv, 20)\n",
    "    \n",
    "    print(folder)\n",
    "    print_results(fore=False, back=True, fanout_max=True, fanout_avg=True, fanout_min=True)\n",
    "    \"\"\"\n",
    "    (0,1695)(1,0)(2,0)(3,0)(4,0)(5,0)(6,0)(7,0)(8,0)(9,0)(10,12071)(11,0)(12,0)(13,0)(14,0)(15,0)(16,0)(17,0)(18,0)(19,0)\n",
    "    (0,1396)(1,0)(2,0)(3,0)(4,0)(5,0)(6,0)(7,0)(8,0)(9,0)(10,40)(11,0)(12,0)(13,0)(14,0)(15,0)(16,0)(17,0)(18,0)(19,0)\n",
    "    \"\"\""
   ]
  },
  {
   "cell_type": "code",
   "execution_count": 164,
   "metadata": {
    "scrolled": false
   },
   "outputs": [
    {
     "name": "stdout",
     "output_type": "stream",
     "text": [
      "--------latency----------\n",
      "{'/TCP/': [(0.012256805016630878, 0.09182001081892967), (197.02488072783862, 2138.9771381826495)], '/DCTCP30/': [(0.012256805016630878, 0.09182001081892967), (28.53995151670976, 164.87210912499066)], '/DCTCP_pacer_PQ/': [(0.011402435507357337, 0.07736876960638275), (0.6277829051128065, 15.210358573679539)]}\n",
      "--------bkg----------\n",
      "{'/TCP/': [(109.92766356092046, 318.0634533299275)], '/DCTCP30/': [(114.41642104599012, 280.4406935408957)], '/DCTCP_pacer_PQ/': [(243.65444273656223, 367.2316272451263)]}\n",
      "--------fan_max----------\n",
      "{'/TCP/': [(11.861691827033336, 30.592449654056097), (12.549892728325995, 31.821353152573664)], '/DCTCP30/': [(11.861691827033336, 30.592449654056097), (12.081964333129303, 31.06630185645709)], '/DCTCP_pacer_PQ/': [(11.90204503855953, 30.878126218570618), (11.972514519775682, 31.248185067426206)]}\n",
      "--------fan_avg---------\n",
      "{'/TCP/': [(4.1467681495415905, 10.337442728251556), (4.792751314334563, 12.895179087839015)], '/DCTCP30/': [(4.1467681495415905, 10.337442728251556), (4.246494089088765, 10.590609162388922)], '/DCTCP_pacer_PQ/': [(4.180662032279833, 10.448151948708043), (4.217369547979717, 10.506921389515917)]}\n",
      "--------fan_min---------\n",
      "{'/TCP/': [(0.6328319526961736, 2.820076103245623), (1.216873200571218, 7.194570282529608)], '/DCTCP30/': [(0.6328319526961736, 2.820076103245623), (0.6974996555950311, 3.051123106992717)], '/DCTCP_pacer_PQ/': [(0.6676265903472264, 2.8231452180198673), (0.6830901890117017, 2.916756750234481)]}\n"
     ]
    }
   ],
   "source": [
    "print(\"--------latency----------\")\n",
    "print(latency)\n",
    "print(\"--------bkg----------\")\n",
    "print(bkg_fct)\n",
    "print(\"--------fan_max----------\")\n",
    "print(fanout_qct_max)\n",
    "print(\"--------fan_avg---------\")\n",
    "print(fanout_qct_avg)\n",
    "print(\"--------fan_min---------\")\n",
    "print(fanout_qct_min)\n"
   ]
  },
  {
   "cell_type": "code",
   "execution_count": 165,
   "metadata": {},
   "outputs": [
    {
     "data": {
      "text/plain": [
       "Text(0, 0.5, 'Microseconds')"
      ]
     },
     "execution_count": 165,
     "metadata": {},
     "output_type": "execute_result"
    },
    {
     "data": {
      "image/png": "[encoded data removed]",
      "text/plain": [
       "<Figure size 1080x216 with 3 Axes>"
      ]
     },
     "metadata": {
      "needs_background": "light"
     },
     "output_type": "display_data"
    }
   ],
   "source": [
    "fig, (ax1,ax2,ax3) = plt.subplots(nrows=1, ncols=3, figsize=(15,3))\n",
    "config_num = 2\n",
    "ind = np.arange(config_num)\n",
    "width = 0.2\n",
    "res = []\n",
    "for folder in results_folders:\n",
    "    res.append([x[1] for x in fanout_qct_max[folder]])\n",
    "p1 = ax1.bar(ind-0.5*width, res[0], width, color='grey')\n",
    "p2 = ax1.bar(ind+0.5*width, res[1], width, color='k')\n",
    "p3 = ax1.bar(ind+1.5*width, res[2], width, color='r')\n",
    "\n",
    "\n",
    "ax1.set_title('99th% Query Completion Time')\n",
    "ax1.set_xticks(ind + width / 2)\n",
    "ax1.set_xticklabels(('No Background Traffic', '200Mbbps of Bk. Traffic', '400Mbbps of Bk. Traffic', '600Mbbps of Bk. Traffic'))\n",
    "ax1.legend((p1[0], p2[0], p3[0]), ('TCP', 'DCTCP-30K', 'DCTCP-PQ950-Pacer'), loc='upper left')\n",
    "ax1.set_ylabel('Miliseconds')\n",
    "\n",
    "# Long flow fct\n",
    "res = []\n",
    "for folder in results_folders:\n",
    "    res.append([x[1] for x in bkg_fct[folder]])\n",
    "p1 = ax2.bar(ind-0.5*width, res[0], width, color='grey')\n",
    "p2 = ax2.bar(ind+0.5*width, res[1], width, color='k')\n",
    "p3 = ax2.bar(ind+1.5*width, res[2], width, color='r')\n",
    "\n",
    "\n",
    "ax2.set_title('99th% Long Flow FCT')\n",
    "ax2.set_xticks(ind + width / 2)\n",
    "ax2.set_xticklabels(('No Background Traffic', '200Mbbps of Bk. Traffic', '400Mbbps of Bk. Traffic', '600Mbbps of Bk. Traffic'))\n",
    "ax2.legend((p1[0], p2[0], p3[0]), ('TCP', 'DCTCP-30K', 'DCTCP-PQ950-Pacer'), loc='upper left')\n",
    "ax2.set_ylabel('Miliseconds')\n",
    "\n",
    "# Switch Latency\n",
    "res = []\n",
    "for folder in results_folders:\n",
    "    res.append([x[1] for x in latency[folder]])\n",
    "p1 = ax3.bar(ind-0.5*width, res[0], width, color='grey',log=True)\n",
    "p2 = ax3.bar(ind+0.5*width, res[1], width, color='k',log=True)\n",
    "p3 = ax3.bar(ind+1.5*width, res[2], width, color='r',log=True)\n",
    "\n",
    "\n",
    "ax3.set_title('99th% Switch Queuing Latency')\n",
    "ax3.set_xticks(ind + width / 2)\n",
    "ax3.set_xticklabels(('No Background Traffic', '200Mbbps of Bk. Traffic', '400Mbbps of Bk. Traffic', '600Mbbps of Bk. Traffic'))\n",
    "ax3.legend((p1[0], p2[0], p3[0]), ('TCP', 'DCTCP-30K', 'DCTCP-PQ950-Pacer'), loc='upper left')\n",
    "ax3.set_ylabel('Microseconds')"
   ]
  },
  {
   "cell_type": "code",
   "execution_count": 128,
   "metadata": {
    "scrolled": true
   },
   "outputs": [],
   "source": [
    "# fig, (ax1,ax2,ax3) = plt.subplots(nrows=1, ncols=3, figsize=(16,10))\n",
    "# for i, setup in enumerate(results_folders):\n",
    "#     ax1.bar(i-0.4, latency[setup][0][0], width=0.1, log=True, color=\"blue\")\n",
    "#     ax1.bar(i-0.3, latency[setup][0][1], width=0.1, log=True, color=\"blue\")\n",
    "#     ax1.bar(i-0.1, latency[setup][1][0], width=0.1, log=True, color=\"red\")\n",
    "#     ax1.bar(i, latency[setup][1][1], width=0.1, log=True, color=\"red\")\n",
    "#     ax1.bar(i+0.2, latency[setup][2][0], width=0.1, log=True, color=\"green\")\n",
    "#     ax1.bar(i+0.3, latency[setup][2][1], width=0.1, log=True, color=\"green\")\n",
    "# ax1.set_title(\"Switch Latency\")\n",
    "# ax1.legend(loc='upper left')\n",
    "# ax1.set_ylabel('Queuing miliseconds')\n",
    "# ax1.set_xlabel('Scheme')\n",
    "# ax1.grid(which='major', linestyle=\"-\")\n",
    "# #ax1.grid(which='minor', linestyle='--')\n",
    "\n",
    "# fig.tight_layout()   \n",
    "\n",
    "# fig.savefig(\"Queuing delay vs Time.png\", format=\"png\")\n",
    "# fig.show()"
   ]
  }
 ],
 "metadata": {
  "kernelspec": {
   "display_name": "Python 3",
   "language": "python",
   "name": "python3"
  },
  "language_info": {
   "codemirror_mode": {
    "name": "ipython",
    "version": 3
   },
   "file_extension": ".py",
   "mimetype": "text/x-python",
   "name": "python",
   "nbconvert_exporter": "python",
   "pygments_lexer": "ipython3",
   "version": "3.6.5"
  }
 },
 "nbformat": 4,
 "nbformat_minor": 2
}
